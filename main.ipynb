{
  "nbformat": 4,
  "nbformat_minor": 0,
  "metadata": {
    "colab": {
      "name": "Untitled22.ipynb",
      "provenance": []
    },
    "kernelspec": {
      "name": "python3",
      "display_name": "Python 3"
    },
    "language_info": {
      "name": "python"
    }
  },
  "cells": [
    {
      "cell_type": "code",
      "execution_count": 240,
      "metadata": {
        "id": "4k-j1Yj7rS8s"
      },
      "outputs": [],
      "source": [
        "import numpy as np"
      ]
    },
    {
      "cell_type": "code",
      "source": [
        "data = np.random.rand(10000)"
      ],
      "metadata": {
        "id": "mdokk7qWrhZs"
      },
      "execution_count": 5,
      "outputs": []
    },
    {
      "cell_type": "code",
      "source": [
        "from re import S\n",
        "from collections import deque\n",
        "\n",
        "\n",
        "class GK:\n",
        "    def __init__(self, approximation):\n",
        "        self.approximation = approximation\n",
        "        self.summary = []\n",
        "        # count len of summary\n",
        "        self.s = 0\n",
        "        # count totall n\n",
        "        self.n = 0\n",
        "\n",
        "    def insert(self, x):\n",
        "        if self.n % int(1/(2*self.approximation)) == 0:\n",
        "            self._compress()\n",
        "        # Find the smallest i , such that v_i-1 <= v < v_i\n",
        "        i = 0\n",
        "        while i < self.s and self.summary[i]['val'] < x:\n",
        "            i+=1\n",
        "        \n",
        "        # calculate delta\n",
        "        delta = 0 if i == 0 or i == self.s else int(self._get_two_approx())\n",
        "        \n",
        "        # insert\n",
        "        self.summary.insert(i, {\n",
        "            'val': x,\n",
        "            'g': 1,\n",
        "            'delta': delta\n",
        "        })\n",
        "        self.s += 1\n",
        "        self.n += 1\n",
        "\n",
        "    def _get_two_approx(self):\n",
        "        return 2*self.n*self.approximation\n",
        "        \n",
        "    \n",
        "    def _merge(self, i,k,g):\n",
        "        # merge two parts \n",
        "        end = self.summary[i+1:]\n",
        "        begin = self.summary[:k]\n",
        "        new = self.summary[i]\n",
        "        new['g'] = g\n",
        "        self.s -= i-k\n",
        "        return begin + [new] + end\n",
        "\n",
        "\n",
        "    def _compress(self):\n",
        "        # approximation \n",
        "        i = int(self.s-1)\n",
        "        while i > 1:\n",
        "            g = self.summary[i]['g']\n",
        "            k = i\n",
        "            for j in reversed(range(0,i)):\n",
        "                approximation = g + self.summary[j]['g'] + self.summary[i]['delta']\n",
        "                if approximation > self._get_two_approx():\n",
        "                    break\n",
        "                g+=self.summary[j]['g']\n",
        "                k = j\n",
        "            self.summary = self._merge(i, k, g)\n",
        "            i = k-1\n",
        "\n",
        "\n",
        "    def query(self, quantile):\n",
        "        en = self.approximation * self.n\n",
        "        r = int(quantile * self.n)\n",
        "        r_min = 0\n",
        "        for s in self.summary:\n",
        "            r_min += s['g']\n",
        "            r_max = r_min + s['delta']\n",
        "            if r - r_min <= en and r_max - r <= en:\n",
        "                return s['val']\n",
        "      \n",
        "\n",
        "    def __len__(self):\n",
        "        return self.s\n",
        "    \n",
        "\n",
        "\n",
        "class LinSW:\n",
        "    def __init__(self, approximation, N):\n",
        "        self.approximation = approximation\n",
        "        self.buckets = []\n",
        "        self.n = 0\n",
        "        self.k = 0\n",
        "        self.N = N\n",
        "        self.bucket_size = int((self.approximation*self.N)/2) or 1\n",
        "        self.curent = GK(approximation/4)\n",
        "\n",
        "    def insert(self, x):\n",
        "        if len(self.curent) == self.bucket_size:\n",
        "            self.compress(self.curent)\n",
        "            self.curent = GK(self.approximation/4)\n",
        "        if self.n == self.N:\n",
        "            self.buckets.pop()\n",
        "            self.n -= self.bucket_size\n",
        "        self.curent.insert(x)\n",
        "        self.n+=1\n",
        "        self.k+=1\n",
        "\n",
        "\n",
        "    def compress(self, curent):\n",
        "        first = curent.summary[0]\n",
        "        first['delta'] += first['g']\n",
        "        compressed = [(first['val'], first['g'], first['delta'])]\n",
        "        r_min = first['g']\n",
        "        for i in range(1, min(int(2/self.approximation)+1, len(self.curent.summary)-1)):\n",
        "            r_min += curent.summary[i]['g']\n",
        "            r_max = r_min + curent.summary[i]['delta']\n",
        "            if i * int(self.approximation * self.N/2) - self.approximation*self.N/4 <= r_min <=r_max<= i * int(self.approximation * self.N/2) + self.approximation*self.N/4:\n",
        "                compressed.append((curent.summary[i]['val'], r_min, r_max))\n",
        "\n",
        "        r = 0\n",
        "        for i in curent.summary:\n",
        "            r+=i['g']\n",
        "\n",
        "        compressed.append((curent.summary[-1]['val'], r, r + self.curent.summary[-1]['delta']))\n",
        "        self.buckets.insert(0, compressed)\n",
        "    \n",
        "\n",
        "    def merge(self):\n",
        "        S_merge = []\n",
        "        r_negs = [0]\n",
        "        r_pos = []\n",
        "        k = 0\n",
        "        r_i_0 = [0 for i in range(len(self.buckets))]\n",
        "        ns = [len(bucket) for bucket in self.buckets]\n",
        "        if len(self.curent.summary):\n",
        "            self.compress(self.curent)\n",
        "        s = self.buckets\n",
        "\n",
        "\n",
        "        while s:\n",
        "            small = None\n",
        "            ix = 0\n",
        "            it = 0\n",
        "            for idx, i in enumerate(s):\n",
        "                for itx, t in enumerate(i):\n",
        "                    if not small or t[0] < small:\n",
        "                        small = t[0]\n",
        "                        ix = idx\n",
        "                        it = itx\n",
        "            smallest = s[ix].pop(it)\n",
        "            if not len(s[ix]):\n",
        "                s.pop(ix)\n",
        "            k += 1\n",
        "            v_k = smallest[0]\n",
        "\n",
        "            r_negs.append(r_negs[k-1] + smallest[1] + (s[ix][it-1][1] if it !=0 else 0))\n",
        "            if k == 1:\n",
        "                r_k_pos = self.approximation * sum(ns[:k]) + 1\n",
        "                r_pos.append(r_k_pos)\n",
        "            else:\n",
        "                r_k_pos = r_negs[k-1] + 2 * self.approximation * sum(ns[:k])\n",
        "                r_pos.append(r_k_pos)\n",
        "\n",
        "            S_merge.append([v_k, r_negs[-1], r_k_pos])\n",
        "        return S_merge\n",
        "\n",
        "\n",
        "\n",
        "\n",
        "    def lift(self, merged):\n",
        "        S_lift = []\n",
        "        for i in merged:\n",
        "            new_i = i\n",
        "            new_i[2] += int(self.approximation*self.N/2) \n",
        "            S_lift.append(new_i)\n",
        "        return S_lift\n",
        "\n",
        "\n",
        "    def query(self, q):\n",
        "        buckets = self.merge()\n",
        "\n",
        "        buckets = self.lift(buckets)\n",
        "        en = self.approximation * self.n\n",
        "        r = int(q * self.n)\n",
        "        for s in buckets:\n",
        "            if r - s[1] <= en and s[2] - r <= en and s[1]<s[2]:\n",
        "                return s[0]\n",
        "        return buckets[-1][0]\n",
        "\n",
        "\n",
        "\n",
        "\n",
        "    \n",
        "\n",
        "\n",
        "\n"
      ],
      "metadata": {
        "id": "nHBqXTggs-vq"
      },
      "execution_count": 409,
      "outputs": []
    },
    {
      "cell_type": "code",
      "source": [
        "t = LinSW(0.05, 1000)\n",
        "data = [i for i in range(1000)]\n",
        "for i in data:\n",
        "  t.insert(i)"
      ],
      "metadata": {
        "id": "-fiI2cLT6iPO"
      },
      "execution_count": 386,
      "outputs": []
    },
    {
      "cell_type": "code",
      "source": [
        "t.query(0.5)"
      ],
      "metadata": {
        "colab": {
          "base_uri": "https://localhost:8080/"
        },
        "id": "wWZVjjuZr5Jp",
        "outputId": "31c7cc0d-c21f-4bd3-b9f6-0f55b183995a"
      },
      "execution_count": 387,
      "outputs": [
        {
          "output_type": "execute_result",
          "data": {
            "text/plain": [
              "449"
            ]
          },
          "metadata": {},
          "execution_count": 387
        }
      ]
    },
    {
      "cell_type": "markdown",
      "source": [
        "I could not achieve good result with Lin SW, so for my further analyses I will use GK01"
      ],
      "metadata": {
        "id": "beKZRxF-fjHL"
      }
    },
    {
      "cell_type": "code",
      "source": [
        "#### Tests ####\n",
        "NUM_TESTS = 10\n",
        "for test in range(1,NUM_TESTS):\n",
        "    data = np.random.randint(1000, size=1000*test)\n",
        "    q = GK(0.0005)\n",
        "    for i in data:\n",
        "        q.insert(i)\n",
        "\n",
        "    data = sorted(data)\n",
        "    assert q.query(0.5) in data[int(1000*test/2) - int(0.005 * 1000*test):int(1000*test/2) + int(0.005*1000*test)]\n",
        "\n",
        "\n"
      ],
      "metadata": {
        "id": "8KNN-8DJ68Z4"
      },
      "execution_count": 393,
      "outputs": []
    },
    {
      "cell_type": "code",
      "source": [
        "import timeit\n",
        "import math\n",
        "sizes = [100, 1000, 10000, 100000]\n",
        "aprox = [0.5, 0.05, 0.005, 0.0005]\n",
        "time = []\n",
        "size = []\n",
        "upper_bound = []\n",
        "for s in sizes:\n",
        "    for a in aprox:\n",
        "        data = np.random.randint(1000, size=s)\n",
        "        q = GK(a)\n",
        "        time_b = timeit.default_timer() \n",
        "        for i in data:\n",
        "            q.insert(i)\n",
        "        q.query(0.5)\n",
        "        time_e = timeit.default_timer()\n",
        "        time.append(time_e - time_b)\n",
        "        size.append(int(len(q)))\n",
        "        upper_bound.append(abs((1.0/a)*math.log(a*s))\n",
        "        )\n",
        "        "
      ],
      "metadata": {
        "id": "Lsp-COIDhQGl"
      },
      "execution_count": 414,
      "outputs": []
    },
    {
      "cell_type": "code",
      "source": [
        "import matplotlib.pyplot as plt\n",
        "fig, ax = plt.subplots()\n",
        "\n",
        "ax.plot(time, linewidth=2.0)\n",
        "\n",
        "plt.show()"
      ],
      "metadata": {
        "colab": {
          "base_uri": "https://localhost:8080/",
          "height": 264
        },
        "id": "y7ZlBZl5i3Y6",
        "outputId": "ef9d5c3a-108b-41dd-bd9e-4d8d91451b41"
      },
      "execution_count": 415,
      "outputs": [
        {
          "output_type": "display_data",
          "data": {
            "image/png": "[encoded data removed]",
            "text/plain": [
              "<Figure size 432x288 with 1 Axes>"
            ]
          },
          "metadata": {
            "needs_background": "light"
          }
        }
      ]
    },
    {
      "cell_type": "code",
      "source": [
        "fig, ax = plt.subplots()\n",
        "\n",
        "ax.plot(size, linewidth=2.0)\n",
        "ax.plot(upper_bound, linewidth=2.0)\n",
        "\n",
        "plt.show()"
      ],
      "metadata": {
        "colab": {
          "base_uri": "https://localhost:8080/",
          "height": 264
        },
        "id": "2TVHK7X4lqgY",
        "outputId": "5d7dd4b4-6987-4cc2-f5be-6513f0b5b4fb"
      },
      "execution_count": 416,
      "outputs": [
        {
          "output_type": "display_data",
          "data": {
            "image/png": "[encoded data removed]",
            "text/plain": [
              "<Figure size 432x288 with 1 Axes>"
            ]
          },
          "metadata": {
            "needs_background": "light"
          }
        }
      ]
    }
  ]
}